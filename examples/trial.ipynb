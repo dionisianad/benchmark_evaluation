{
 "cells": [
  {
   "cell_type": "code",
   "execution_count": 7,
   "id": "2abe8c1c",
   "metadata": {},
   "outputs": [],
   "source": [
    "import geoopt\n",
    "import torch\n",
    "\n",
    "manifold = geoopt.manifolds.Lorentz(k=1.0)\n",
    "\n",
    "x = torch.randn(100, 1000)\n",
    "x = x.double()  # Ensure features are in double precision\n",
    "zeros = torch.zeros(100, 999) # [N, D-1]\n",
    "ones = torch.ones(100, 1) # [N, 1]\n",
    "origin = torch.cat([ones, zeros], dim=-1) # [N, D]\n"
   ]
  },
  {
   "cell_type": "code",
   "execution_count": 2,
   "id": "8184c62c",
   "metadata": {},
   "outputs": [],
   "source": [
    "def proj_tan0(u, c):\n",
    "    narrowed = u.narrow(-1, 0, 1)\n",
    "    vals = torch.zeros_like(u)\n",
    "    vals[:, 0:1] = narrowed\n",
    "    return u - vals"
   ]
  },
  {
   "cell_type": "code",
   "execution_count": 8,
   "id": "16bb4cc1",
   "metadata": {},
   "outputs": [
    {
     "name": "stdout",
     "output_type": "stream",
     "text": [
      "Projected x onto T0: tensor([[ 0.0000e+00, -1.0741e+00,  1.3305e-01,  ..., -4.1644e-01,\n",
      "         -2.1414e+00, -6.8367e-01],\n",
      "        [ 0.0000e+00, -7.1185e-02, -1.2423e+00,  ...,  4.9543e-01,\n",
      "         -6.9051e-02, -6.4188e-01],\n",
      "        [ 0.0000e+00,  4.0684e-01,  8.8712e-01,  ...,  7.7168e-01,\n",
      "         -3.5015e+00, -9.5821e-01],\n",
      "        ...,\n",
      "        [ 0.0000e+00,  9.6764e-01, -2.5009e+00,  ..., -7.9908e-01,\n",
      "          4.5771e-01,  2.5597e-03],\n",
      "        [ 0.0000e+00,  5.6271e-01,  8.7310e-01,  ...,  6.1095e-01,\n",
      "         -5.2153e-01, -1.5108e+00],\n",
      "        [ 0.0000e+00,  3.0983e+00, -5.7601e-01,  ...,  6.4639e-01,\n",
      "         -1.6819e-01,  1.4049e-02]], dtype=torch.float64)\n"
     ]
    }
   ],
   "source": [
    "x_T0 = proj_tan0(x, c=1.0)\n",
    "print(\"Projected x onto T0:\", x_T0)"
   ]
  },
  {
   "cell_type": "code",
   "execution_count": 9,
   "id": "f5307d41",
   "metadata": {},
   "outputs": [
    {
     "name": "stdout",
     "output_type": "stream",
     "text": [
      "Projected x onto T0 using manifold.proju: tensor([[ 0.0000e+00, -1.0741e+00,  1.3305e-01,  ..., -4.1644e-01,\n",
      "         -2.1414e+00, -6.8367e-01],\n",
      "        [ 0.0000e+00, -7.1185e-02, -1.2423e+00,  ...,  4.9543e-01,\n",
      "         -6.9051e-02, -6.4188e-01],\n",
      "        [ 0.0000e+00,  4.0684e-01,  8.8712e-01,  ...,  7.7168e-01,\n",
      "         -3.5015e+00, -9.5821e-01],\n",
      "        ...,\n",
      "        [ 0.0000e+00,  9.6764e-01, -2.5009e+00,  ..., -7.9908e-01,\n",
      "          4.5771e-01,  2.5597e-03],\n",
      "        [ 0.0000e+00,  5.6271e-01,  8.7310e-01,  ...,  6.1095e-01,\n",
      "         -5.2153e-01, -1.5108e+00],\n",
      "        [ 0.0000e+00,  3.0983e+00, -5.7601e-01,  ...,  6.4639e-01,\n",
      "         -1.6819e-01,  1.4049e-02]], dtype=torch.float64)\n",
      "False\n"
     ]
    }
   ],
   "source": [
    "x_T0 = manifold.proju(origin, x)\n",
    "print(\"Projected x onto T0 using manifold.proju:\", x_T0)\n",
    "x = manifold.projx(manifold.expmap(origin, x_T0))\n",
    "print(manifold.check_point_on_manifold(x))"
   ]
  },
  {
   "cell_type": "code",
   "execution_count": 5,
   "id": "c17c0207",
   "metadata": {},
   "outputs": [
    {
     "data": {
      "text/plain": [
       "torch.Size([100])"
      ]
     },
     "execution_count": 5,
     "metadata": {},
     "output_type": "execute_result"
    }
   ],
   "source": [
    "x[0].shape\n"
   ]
  },
  {
   "cell_type": "code",
   "execution_count": 6,
   "id": "9332af06",
   "metadata": {},
   "outputs": [
    {
     "name": "stdout",
     "output_type": "stream",
     "text": [
      "tensor(3.1623e-08, dtype=torch.float64)\n"
     ]
    }
   ],
   "source": [
    "dist = manifold.dist(x[0], x[0])\n",
    "\n",
    "print(dist)"
   ]
  }
 ],
 "metadata": {
  "kernelspec": {
   "display_name": "HGCN",
   "language": "python",
   "name": "python3"
  },
  "language_info": {
   "codemirror_mode": {
    "name": "ipython",
    "version": 3
   },
   "file_extension": ".py",
   "mimetype": "text/x-python",
   "name": "python",
   "nbconvert_exporter": "python",
   "pygments_lexer": "ipython3",
   "version": "3.12.5"
  }
 },
 "nbformat": 4,
 "nbformat_minor": 5
}
